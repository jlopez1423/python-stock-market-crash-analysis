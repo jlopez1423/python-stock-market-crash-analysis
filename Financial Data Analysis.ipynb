{
 "cells": [
  {
   "cell_type": "code",
   "execution_count": 1,
   "metadata": {
    "collapsed": true
   },
   "outputs": [],
   "source": [
    "#The Imports\n",
    "from pandas_datareader import data, wb\n",
    "import pandas as pd\n",
    "import numpy as np\n",
    "import datetime\n",
    "%matplotlib inline"
   ]
  },
  {
   "cell_type": "code",
   "execution_count": 2,
   "metadata": {
    "collapsed": false
   },
   "outputs": [],
   "source": [
    "#Setting Start and end dates\n",
    "start = datetime.datetime(2006, 1, 1)\n",
    "\n",
    "end = datetime.datetime(2016, 1, 1)"
   ]
  },
  {
   "cell_type": "code",
   "execution_count": 3,
   "metadata": {
    "collapsed": false
   },
   "outputs": [],
   "source": [
    "#Data Section\n",
    "\n",
    "#Need to get stock information for the following banks\n",
    "#Bank of America\n",
    "#CitiGroup\n",
    "#Goldman Sachs\n",
    "#JPMorgan Chase\n",
    "#Morgan Stanley\n",
    "#Wells Fargo\n",
    "\n",
    "#Bank of america\n",
    "BAC = data.DataReader(\"BAC\", 'yahoo', start, end )\n",
    "CG = data.DataReader(\"C\", 'yahoo', start, end )\n",
    "GS = data.DataReader( \"GS\", 'yahoo', start, end )\n",
    "JPM = data.DataReader( \"JPM\", 'yahoo', start, end )\n",
    "MS = data.DataReader( \"MS\", 'yahoo', start, end )\n",
    "WFC = data.DataReader( \"WFC\", 'yahoo', start, end )"
   ]
  },
  {
   "cell_type": "code",
   "execution_count": 5,
   "metadata": {
    "collapsed": false
   },
   "outputs": [],
   "source": [
    "#Create a list of the ticker symbols (as strings) in alphabetical order. Call this list: tickers\n",
    "tickers = [ 'BAC', 'C', 'GS', 'JPM', 'MS', 'WFC']"
   ]
  },
  {
   "cell_type": "code",
   "execution_count": 6,
   "metadata": {
    "collapsed": false
   },
   "outputs": [
    {
     "data": {
      "text/plain": [
       "['BAC', 'C', 'GS', 'JPM', 'MS', 'WFC']"
      ]
     },
     "execution_count": 6,
     "metadata": {},
     "output_type": "execute_result"
    }
   ],
   "source": [
    "tickers"
   ]
  },
  {
   "cell_type": "code",
   "execution_count": 13,
   "metadata": {
    "collapsed": true
   },
   "outputs": [],
   "source": [
    "#Use pd.concat to concatenate the bank dataframes together to a single data frame called bank_stocks.\n",
    "#Set the keys argument equal to the tickers list. Also pay attention to what axis you concatenate on.\n",
    "bank_stocks = pd.concat([BAC, CG, GS, JPM, MS, WFC ], axis=1,keys=tickers )"
   ]
  },
  {
   "cell_type": "code",
   "execution_count": 15,
   "metadata": {
    "collapsed": false
   },
   "outputs": [
    {
     "data": {
      "text/html": [
       "<div>\n",
       "<style>\n",
       "    .dataframe thead tr:only-child th {\n",
       "        text-align: right;\n",
       "    }\n",
       "\n",
       "    .dataframe thead th {\n",
       "        text-align: left;\n",
       "    }\n",
       "\n",
       "    .dataframe tbody tr th {\n",
       "        vertical-align: top;\n",
       "    }\n",
       "</style>\n",
       "<table border=\"1\" class=\"dataframe\">\n",
       "  <thead>\n",
       "    <tr>\n",
       "      <th>Bank Ticker</th>\n",
       "      <th colspan=\"6\" halign=\"left\">BAC</th>\n",
       "      <th colspan=\"4\" halign=\"left\">C</th>\n",
       "      <th>...</th>\n",
       "      <th colspan=\"4\" halign=\"left\">MS</th>\n",
       "      <th colspan=\"6\" halign=\"left\">WFC</th>\n",
       "    </tr>\n",
       "    <tr>\n",
       "      <th>Stock Info</th>\n",
       "      <th>Open</th>\n",
       "      <th>High</th>\n",
       "      <th>Low</th>\n",
       "      <th>Close</th>\n",
       "      <th>Adj Close</th>\n",
       "      <th>Volume</th>\n",
       "      <th>Open</th>\n",
       "      <th>High</th>\n",
       "      <th>Low</th>\n",
       "      <th>Close</th>\n",
       "      <th>...</th>\n",
       "      <th>Low</th>\n",
       "      <th>Close</th>\n",
       "      <th>Adj Close</th>\n",
       "      <th>Volume</th>\n",
       "      <th>Open</th>\n",
       "      <th>High</th>\n",
       "      <th>Low</th>\n",
       "      <th>Close</th>\n",
       "      <th>Adj Close</th>\n",
       "      <th>Volume</th>\n",
       "    </tr>\n",
       "    <tr>\n",
       "      <th>Date</th>\n",
       "      <th></th>\n",
       "      <th></th>\n",
       "      <th></th>\n",
       "      <th></th>\n",
       "      <th></th>\n",
       "      <th></th>\n",
       "      <th></th>\n",
       "      <th></th>\n",
       "      <th></th>\n",
       "      <th></th>\n",
       "      <th></th>\n",
       "      <th></th>\n",
       "      <th></th>\n",
       "      <th></th>\n",
       "      <th></th>\n",
       "      <th></th>\n",
       "      <th></th>\n",
       "      <th></th>\n",
       "      <th></th>\n",
       "      <th></th>\n",
       "      <th></th>\n",
       "    </tr>\n",
       "  </thead>\n",
       "  <tbody>\n",
       "    <tr>\n",
       "      <th>2006-01-03</th>\n",
       "      <td>46.919998</td>\n",
       "      <td>47.180000</td>\n",
       "      <td>46.150002</td>\n",
       "      <td>47.080002</td>\n",
       "      <td>37.157749</td>\n",
       "      <td>16296700</td>\n",
       "      <td>490.000000</td>\n",
       "      <td>493.799988</td>\n",
       "      <td>481.100006</td>\n",
       "      <td>492.899994</td>\n",
       "      <td>...</td>\n",
       "      <td>56.740002</td>\n",
       "      <td>58.310001</td>\n",
       "      <td>40.259113</td>\n",
       "      <td>5377000</td>\n",
       "      <td>31.600000</td>\n",
       "      <td>31.975000</td>\n",
       "      <td>31.195000</td>\n",
       "      <td>31.900000</td>\n",
       "      <td>23.238424</td>\n",
       "      <td>11016400</td>\n",
       "    </tr>\n",
       "    <tr>\n",
       "      <th>2006-01-04</th>\n",
       "      <td>47.000000</td>\n",
       "      <td>47.240002</td>\n",
       "      <td>46.450001</td>\n",
       "      <td>46.580002</td>\n",
       "      <td>36.763119</td>\n",
       "      <td>17757900</td>\n",
       "      <td>488.600006</td>\n",
       "      <td>491.000000</td>\n",
       "      <td>483.500000</td>\n",
       "      <td>483.799988</td>\n",
       "      <td>...</td>\n",
       "      <td>58.349998</td>\n",
       "      <td>58.349998</td>\n",
       "      <td>40.286736</td>\n",
       "      <td>7977800</td>\n",
       "      <td>31.799999</td>\n",
       "      <td>31.820000</td>\n",
       "      <td>31.365000</td>\n",
       "      <td>31.530001</td>\n",
       "      <td>22.968884</td>\n",
       "      <td>10870000</td>\n",
       "    </tr>\n",
       "    <tr>\n",
       "      <th>2006-01-05</th>\n",
       "      <td>46.580002</td>\n",
       "      <td>46.830002</td>\n",
       "      <td>46.320000</td>\n",
       "      <td>46.639999</td>\n",
       "      <td>36.810474</td>\n",
       "      <td>14970700</td>\n",
       "      <td>484.399994</td>\n",
       "      <td>487.799988</td>\n",
       "      <td>484.000000</td>\n",
       "      <td>486.200012</td>\n",
       "      <td>...</td>\n",
       "      <td>58.020000</td>\n",
       "      <td>58.509998</td>\n",
       "      <td>40.397205</td>\n",
       "      <td>5778000</td>\n",
       "      <td>31.500000</td>\n",
       "      <td>31.555000</td>\n",
       "      <td>31.309999</td>\n",
       "      <td>31.495001</td>\n",
       "      <td>22.943392</td>\n",
       "      <td>10158000</td>\n",
       "    </tr>\n",
       "    <tr>\n",
       "      <th>2006-01-06</th>\n",
       "      <td>46.799999</td>\n",
       "      <td>46.910000</td>\n",
       "      <td>46.349998</td>\n",
       "      <td>46.570000</td>\n",
       "      <td>36.755238</td>\n",
       "      <td>12599800</td>\n",
       "      <td>488.799988</td>\n",
       "      <td>489.000000</td>\n",
       "      <td>482.000000</td>\n",
       "      <td>486.200012</td>\n",
       "      <td>...</td>\n",
       "      <td>58.049999</td>\n",
       "      <td>58.570000</td>\n",
       "      <td>40.438644</td>\n",
       "      <td>6889800</td>\n",
       "      <td>31.580000</td>\n",
       "      <td>31.775000</td>\n",
       "      <td>31.385000</td>\n",
       "      <td>31.680000</td>\n",
       "      <td>23.078157</td>\n",
       "      <td>8403800</td>\n",
       "    </tr>\n",
       "    <tr>\n",
       "      <th>2006-01-09</th>\n",
       "      <td>46.720001</td>\n",
       "      <td>46.970001</td>\n",
       "      <td>46.360001</td>\n",
       "      <td>46.599998</td>\n",
       "      <td>36.778908</td>\n",
       "      <td>15619400</td>\n",
       "      <td>486.000000</td>\n",
       "      <td>487.399994</td>\n",
       "      <td>483.000000</td>\n",
       "      <td>483.899994</td>\n",
       "      <td>...</td>\n",
       "      <td>58.619999</td>\n",
       "      <td>59.189999</td>\n",
       "      <td>40.866695</td>\n",
       "      <td>4144500</td>\n",
       "      <td>31.674999</td>\n",
       "      <td>31.825001</td>\n",
       "      <td>31.555000</td>\n",
       "      <td>31.674999</td>\n",
       "      <td>23.074520</td>\n",
       "      <td>5619600</td>\n",
       "    </tr>\n",
       "  </tbody>\n",
       "</table>\n",
       "<p>5 rows × 36 columns</p>\n",
       "</div>"
      ],
      "text/plain": [
       "Bank Ticker        BAC                                                        \\\n",
       "Stock Info        Open       High        Low      Close  Adj Close    Volume   \n",
       "Date                                                                           \n",
       "2006-01-03   46.919998  47.180000  46.150002  47.080002  37.157749  16296700   \n",
       "2006-01-04   47.000000  47.240002  46.450001  46.580002  36.763119  17757900   \n",
       "2006-01-05   46.580002  46.830002  46.320000  46.639999  36.810474  14970700   \n",
       "2006-01-06   46.799999  46.910000  46.349998  46.570000  36.755238  12599800   \n",
       "2006-01-09   46.720001  46.970001  46.360001  46.599998  36.778908  15619400   \n",
       "\n",
       "Bank Ticker           C                                        ...     \\\n",
       "Stock Info         Open        High         Low       Close    ...      \n",
       "Date                                                           ...      \n",
       "2006-01-03   490.000000  493.799988  481.100006  492.899994    ...      \n",
       "2006-01-04   488.600006  491.000000  483.500000  483.799988    ...      \n",
       "2006-01-05   484.399994  487.799988  484.000000  486.200012    ...      \n",
       "2006-01-06   488.799988  489.000000  482.000000  486.200012    ...      \n",
       "2006-01-09   486.000000  487.399994  483.000000  483.899994    ...      \n",
       "\n",
       "Bank Ticker         MS                                       WFC             \\\n",
       "Stock Info         Low      Close  Adj Close   Volume       Open       High   \n",
       "Date                                                                          \n",
       "2006-01-03   56.740002  58.310001  40.259113  5377000  31.600000  31.975000   \n",
       "2006-01-04   58.349998  58.349998  40.286736  7977800  31.799999  31.820000   \n",
       "2006-01-05   58.020000  58.509998  40.397205  5778000  31.500000  31.555000   \n",
       "2006-01-06   58.049999  58.570000  40.438644  6889800  31.580000  31.775000   \n",
       "2006-01-09   58.619999  59.189999  40.866695  4144500  31.674999  31.825001   \n",
       "\n",
       "Bank Ticker                                             \n",
       "Stock Info         Low      Close  Adj Close    Volume  \n",
       "Date                                                    \n",
       "2006-01-03   31.195000  31.900000  23.238424  11016400  \n",
       "2006-01-04   31.365000  31.530001  22.968884  10870000  \n",
       "2006-01-05   31.309999  31.495001  22.943392  10158000  \n",
       "2006-01-06   31.385000  31.680000  23.078157   8403800  \n",
       "2006-01-09   31.555000  31.674999  23.074520   5619600  \n",
       "\n",
       "[5 rows x 36 columns]"
      ]
     },
     "execution_count": 15,
     "metadata": {},
     "output_type": "execute_result"
    }
   ],
   "source": [
    "bank_stocks.columns.names = ['Bank Ticker','Stock Info']\n",
    "bank_stocks.head()"
   ]
  },
  {
   "cell_type": "code",
   "execution_count": 97,
   "metadata": {
    "collapsed": false
   },
   "outputs": [
    {
     "data": {
      "text/plain": [
       "Bank Ticker\n",
       "BAC     54.900002\n",
       "C      564.099976\n",
       "GS     247.919998\n",
       "JPM     70.080002\n",
       "MS      89.300003\n",
       "WFC     58.520000\n",
       "dtype: float64"
      ]
     },
     "execution_count": 97,
     "metadata": {},
     "output_type": "execute_result"
    }
   ],
   "source": [
    "#bank_stocks[bank_stocks[\"Close\"]]\n",
    "#for i in tickers:\n",
    "#bank_stocks.xs(\"BAC\", axis=1, )['Close'].max()\n",
    "\n",
    "bank_stocks.xs(key='Close', axis=1, level=\"Stock Info\").max()"
   ]
  },
  {
   "cell_type": "code",
   "execution_count": null,
   "metadata": {
    "collapsed": true
   },
   "outputs": [],
   "source": []
  }
 ],
 "metadata": {
  "kernelspec": {
   "display_name": "Python 2",
   "language": "python",
   "name": "python2"
  },
  "language_info": {
   "codemirror_mode": {
    "name": "ipython",
    "version": 2
   },
   "file_extension": ".py",
   "mimetype": "text/x-python",
   "name": "python",
   "nbconvert_exporter": "python",
   "pygments_lexer": "ipython2",
   "version": "2.7.12"
  }
 },
 "nbformat": 4,
 "nbformat_minor": 2
}
